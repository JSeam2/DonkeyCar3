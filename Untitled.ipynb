{
 "cells": [
  {
   "cell_type": "code",
   "execution_count": null,
   "metadata": {},
   "outputs": [
    {
     "name": "stdout",
     "output_type": "stream",
     "text": [
      "using donkey v2.5.1 ...\n",
      "loading config file: /home/ec2-user/SageMaker/newcar/config.py\n",
      "config loaded\n",
      "tub_names None\n",
      "train: 16957, validation: 4240\n",
      "steps_per_epoch 132\n",
      "Epoch 1/100\n",
      "2018-09-19 12:01:19.323190: I tensorflow/stream_executor/cuda/cuda_gpu_executor.cc:898] successful NUMA node read from SysFS had negative value (-1), but there must be at least one NUMA node, so returning NUMA node zero\n",
      "2018-09-19 12:01:19.323640: I tensorflow/core/common_runtime/gpu/gpu_device.cc:1356] Found device 0 with properties: \n",
      "name: Tesla V100-SXM2-16GB major: 7 minor: 0 memoryClockRate(GHz): 1.53\n",
      "pciBusID: 0000:00:1e.0\n",
      "totalMemory: 15.77GiB freeMemory: 15.36GiB\n",
      "2018-09-19 12:01:19.323662: I tensorflow/core/common_runtime/gpu/gpu_device.cc:1435] Adding visible gpu devices: 0\n",
      "2018-09-19 12:01:19.630893: I tensorflow/core/common_runtime/gpu/gpu_device.cc:923] Device interconnect StreamExecutor with strength 1 edge matrix:\n",
      "2018-09-19 12:01:19.630931: I tensorflow/core/common_runtime/gpu/gpu_device.cc:929]      0 \n",
      "2018-09-19 12:01:19.630951: I tensorflow/core/common_runtime/gpu/gpu_device.cc:942] 0:   N \n",
      "2018-09-19 12:01:19.631335: I tensorflow/core/common_runtime/gpu/gpu_device.cc:1053] Created TensorFlow device (/job:localhost/replica:0/task:0/device:GPU:0 with 14867 MB memory) -> physical GPU (device: 0, name: Tesla V100-SXM2-16GB, pci bus id: 0000:00:1e.0, compute capability: 7.0)\n",
      "131/132 [============================>.] - ETA: 0s - loss: 5.2805 - angle_out_loss: 8.1788 - throttle_out_loss: 2.3822\n",
      "Epoch 00001: val_loss improved from inf to 0.09898, saving model to ./models/linear\n",
      "132/132 [==============================] - 72s 545ms/step - loss: 5.2414 - angle_out_loss: 8.1185 - throttle_out_loss: 2.3643 - val_loss: 0.0990 - val_angle_out_loss: 0.1882 - val_throttle_out_loss: 0.0098\n",
      "Epoch 2/100\n",
      "131/132 [============================>.] - ETA: 0s - loss: 0.1257 - angle_out_loss: 0.2354 - throttle_out_loss: 0.0160\n",
      "Epoch 00002: val_loss improved from 0.09898 to 0.07938, saving model to ./models/linear\n",
      "132/132 [==============================] - 35s 264ms/step - loss: 0.1256 - angle_out_loss: 0.2353 - throttle_out_loss: 0.0160 - val_loss: 0.0794 - val_angle_out_loss: 0.1543 - val_throttle_out_loss: 0.0044\n",
      "Epoch 3/100\n",
      "131/132 [============================>.] - ETA: 0s - loss: 0.1112 - angle_out_loss: 0.2111 - throttle_out_loss: 0.0112\n",
      "Epoch 00003: val_loss improved from 0.07938 to 0.07363, saving model to ./models/linear\n",
      "132/132 [==============================] - 35s 263ms/step - loss: 0.1110 - angle_out_loss: 0.2107 - throttle_out_loss: 0.0112 - val_loss: 0.0736 - val_angle_out_loss: 0.1440 - val_throttle_out_loss: 0.0032\n",
      "Epoch 4/100\n",
      "131/132 [============================>.] - ETA: 0s - loss: 0.1051 - angle_out_loss: 0.2013 - throttle_out_loss: 0.0089\n",
      "Epoch 00004: val_loss improved from 0.07363 to 0.06267, saving model to ./models/linear\n",
      "132/132 [==============================] - 35s 263ms/step - loss: 0.1050 - angle_out_loss: 0.2010 - throttle_out_loss: 0.0090 - val_loss: 0.0627 - val_angle_out_loss: 0.1234 - val_throttle_out_loss: 0.0019\n",
      "Epoch 5/100\n",
      "131/132 [============================>.] - ETA: 0s - loss: 0.0944 - angle_out_loss: 0.1806 - throttle_out_loss: 0.0082\n",
      "Epoch 00005: val_loss improved from 0.06267 to 0.06163, saving model to ./models/linear\n",
      "132/132 [==============================] - 35s 264ms/step - loss: 0.0943 - angle_out_loss: 0.1804 - throttle_out_loss: 0.0082 - val_loss: 0.0616 - val_angle_out_loss: 0.1212 - val_throttle_out_loss: 0.0021\n",
      "Epoch 6/100\n",
      "131/132 [============================>.] - ETA: 0s - loss: 0.0906 - angle_out_loss: 0.1733 - throttle_out_loss: 0.0079\n",
      "Epoch 00006: val_loss did not improve\n",
      "132/132 [==============================] - 35s 263ms/step - loss: 0.0906 - angle_out_loss: 0.1733 - throttle_out_loss: 0.0079 - val_loss: 0.0628 - val_angle_out_loss: 0.1237 - val_throttle_out_loss: 0.0019\n",
      "Epoch 7/100\n",
      "131/132 [============================>.] - ETA: 0s - loss: 0.0854 - angle_out_loss: 0.1636 - throttle_out_loss: 0.0072\n",
      "Epoch 00007: val_loss did not improve\n",
      "132/132 [==============================] - 35s 265ms/step - loss: 0.0854 - angle_out_loss: 0.1635 - throttle_out_loss: 0.0072 - val_loss: 0.0662 - val_angle_out_loss: 0.1310 - val_throttle_out_loss: 0.0014\n",
      "Epoch 8/100\n",
      "131/132 [============================>.] - ETA: 0s - loss: 0.0820 - angle_out_loss: 0.1569 - throttle_out_loss: 0.0071\n",
      "Epoch 00008: val_loss did not improve\n",
      "132/132 [==============================] - 35s 263ms/step - loss: 0.0819 - angle_out_loss: 0.1566 - throttle_out_loss: 0.0071 - val_loss: 0.0642 - val_angle_out_loss: 0.1265 - val_throttle_out_loss: 0.0018\n",
      "Epoch 9/100\n",
      "131/132 [============================>.] - ETA: 0s - loss: 0.0775 - angle_out_loss: 0.1481 - throttle_out_loss: 0.0068\n",
      "Epoch 00009: val_loss improved from 0.06163 to 0.05634, saving model to ./models/linear\n",
      "132/132 [==============================] - 35s 265ms/step - loss: 0.0775 - angle_out_loss: 0.1481 - throttle_out_loss: 0.0068 - val_loss: 0.0563 - val_angle_out_loss: 0.1116 - val_throttle_out_loss: 0.0011\n",
      "Epoch 10/100\n",
      "131/132 [============================>.] - ETA: 0s - loss: 0.0753 - angle_out_loss: 0.1441 - throttle_out_loss: 0.0065\n",
      "Epoch 00010: val_loss improved from 0.05634 to 0.05546, saving model to ./models/linear\n",
      "132/132 [==============================] - 35s 263ms/step - loss: 0.0753 - angle_out_loss: 0.1442 - throttle_out_loss: 0.0065 - val_loss: 0.0555 - val_angle_out_loss: 0.1096 - val_throttle_out_loss: 0.0013\n",
      "Epoch 11/100\n",
      "131/132 [============================>.] - ETA: 0s - loss: 0.0712 - angle_out_loss: 0.1361 - throttle_out_loss: 0.0063\n",
      "Epoch 00011: val_loss improved from 0.05546 to 0.05095, saving model to ./models/linear\n",
      "132/132 [==============================] - 35s 262ms/step - loss: 0.0712 - angle_out_loss: 0.1361 - throttle_out_loss: 0.0063 - val_loss: 0.0510 - val_angle_out_loss: 0.1010 - val_throttle_out_loss: 9.3390e-04\n",
      "Epoch 12/100\n",
      "131/132 [============================>.] - ETA: 0s - loss: 0.0680 - angle_out_loss: 0.1300 - throttle_out_loss: 0.0061\n",
      "Epoch 00012: val_loss did not improve\n",
      "132/132 [==============================] - 35s 263ms/step - loss: 0.0680 - angle_out_loss: 0.1299 - throttle_out_loss: 0.0061 - val_loss: 0.0536 - val_angle_out_loss: 0.1056 - val_throttle_out_loss: 0.0016\n",
      "Epoch 13/100\n",
      " 97/132 [=====================>........] - ETA: 7s - loss: 0.0671 - angle_out_loss: 0.1280 - throttle_out_loss: 0.0061"
     ]
    }
   ],
   "source": [
    "!python manage.py train --model ./models/linear"
   ]
  },
  {
   "cell_type": "code",
   "execution_count": null,
   "metadata": {},
   "outputs": [],
   "source": []
  }
 ],
 "metadata": {
  "kernelspec": {
   "display_name": "conda_tensorflow_p36",
   "language": "python",
   "name": "conda_tensorflow_p36"
  },
  "language_info": {
   "codemirror_mode": {
    "name": "ipython",
    "version": 3
   },
   "file_extension": ".py",
   "mimetype": "text/x-python",
   "name": "python",
   "nbconvert_exporter": "python",
   "pygments_lexer": "ipython3",
   "version": "3.6.5"
  }
 },
 "nbformat": 4,
 "nbformat_minor": 2
}
